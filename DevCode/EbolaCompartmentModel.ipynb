{
 "metadata": {
  "name": ""
 },
 "nbformat": 3,
 "nbformat_minor": 0,
 "worksheets": [
  {
   "cells": [
    {
     "cell_type": "code",
     "collapsed": false,
     "input": [
      "from pyndamics import Simulation\n",
      "from pyndamics.mcmc import MCMCModel\n",
      "import pandas as pd"
     ],
     "language": "python",
     "metadata": {},
     "outputs": [],
     "prompt_number": 1
    },
    {
     "cell_type": "code",
     "collapsed": false,
     "input": [
      "ebolaDf = pd.DataFrame.from_csv('./country_timeseries.csv',index_col=0)\n",
      "ebolaDf = ebolaDf.sort_index()\n",
      "ebolaDf = ebolaDf.fillna(method='bfill')"
     ],
     "language": "python",
     "metadata": {},
     "outputs": [],
     "prompt_number": 2
    },
    {
     "cell_type": "code",
     "collapsed": false,
     "input": [
      "#Initialize the values\n",
      "tau = 110\n",
      "beta0 = 0.2500\n",
      "invGamma = 5.5000\n",
      "beta1 = 0.2000\n",
      "q = 0.1000\n",
      "invk = 6.3\n",
      "\n"
     ],
     "language": "python",
     "metadata": {},
     "outputs": [],
     "prompt_number": 3
    },
    {
     "cell_type": "code",
     "collapsed": false,
     "input": [
      "ebolaDf['Cases_Liberia_temp'] = 0"
     ],
     "language": "python",
     "metadata": {},
     "outputs": [],
     "prompt_number": 4
    },
    {
     "cell_type": "code",
     "collapsed": false,
     "input": [
      "ebolaDf['Cases_Liberia_temp'][1::] = ebolaDf.Cases_Liberia[:-1:]"
     ],
     "language": "python",
     "metadata": {},
     "outputs": [],
     "prompt_number": 5
    },
    {
     "cell_type": "code",
     "collapsed": false,
     "input": [
      "ebolaDf['Uncum_Cases_Liberia'] = ebolaDf.Cases_Liberia - ebolaDf.Cases_Liberia_temp"
     ],
     "language": "python",
     "metadata": {},
     "outputs": [],
     "prompt_number": 6
    },
    {
     "cell_type": "code",
     "collapsed": false,
     "input": [
      "numOfDays = ebolaDf['Day'].values\n",
      "numOfCases = ebolaDf['Uncum_Cases_Liberia'].values\n"
     ],
     "language": "python",
     "metadata": {},
     "outputs": [],
     "prompt_number": 7
    },
    {
     "cell_type": "code",
     "collapsed": false,
     "input": [
      "print numOfDays"
     ],
     "language": "python",
     "metadata": {},
     "outputs": [
      {
       "output_type": "stream",
       "stream": "stdout",
       "text": [
        "[  0   2   3   4   5   6   7   9  10  13  16  18  20  23  24  25  26  29\n",
        "  30  31  32  33  35  40  42  44  46  49  51  62  66  67  71  73  75  80\n",
        "  86  87  88  89  90  92 100 102 106 108 112 114 117 120 123 126 129 132\n",
        " 135 137 140 142 144 147 149 151 157 162 167 169 171 172 175 176 179 181\n",
        " 182 183 185 190 193 196 197 199 200 203 204 205 206 210 211 213 214 216\n",
        " 218]\n"
       ]
      }
     ],
     "prompt_number": 8
    },
    {
     "cell_type": "code",
     "collapsed": false,
     "input": [
      "def beta(t):\n",
      "    if t >= tau:\n",
      "        return beta1 + (beta0-beta1)**(-q*(t-tau))\n",
      "    else:\n",
      "        return beta0\n",
      "    "
     ],
     "language": "python",
     "metadata": {},
     "outputs": [],
     "prompt_number": 9
    },
    {
     "cell_type": "code",
     "collapsed": false,
     "input": [
      "N = 1000000\n",
      "sim = Simulation()\n",
      "sim.add(\"S'=-beta(t)*(S*I)/N\", N, plot=False)\n",
      "sim.add(\"E'=-beta(t)*(S*I)/N - (E/invk)\",135,plot=1)\n",
      "sim.add(\"I'=(E/invk) - (1/invGamma *I)\",136,plot=1)\n",
      "sim.add(\"R'=(1/invGamma*I)\",0,plot=False)\n",
      "sim.params(N=N, k = 1/6.3, q = 0.1000,invGamma = 5.5000,invk=6.3)\n",
      "sim.functions(beta)\n",
      "sim.add_data(t=numOfDays, I=numOfCases, plot=1)\n",
      "sim.run(0,350)\n"
     ],
     "language": "python",
     "metadata": {},
     "outputs": [
      {
       "output_type": "stream",
       "stream": "stdout",
       "text": [
        "Excess work done on this call (perhaps wrong Dfun type).\n",
        "Run with full_output = 1 to get quantitative information.\n"
       ]
      },
      {
       "metadata": {},
       "output_type": "display_data",
       "png": "[encoded data removed]",
       "text": [
        "<matplotlib.figure.Figure at 0x10afbad90>"
       ]
      },
      {
       "metadata": {},
       "output_type": "display_data",
       "text": [
        "<matplotlib.figure.Figure at 0x10b1f7d10>"
       ]
      }
     ],
     "prompt_number": "*"
    },
    {
     "cell_type": "code",
     "collapsed": false,
     "input": [
      "model = MCMCModel(sim,{'beta0':[0,1], 'invGamma':[3.5,10.7],'beta1':[0,1],'q':[0,100], 'tau':[100,150],'invk':[5,22]})\n",
      "#model = MCMCModel(sim,{'invGamma':[3.5,10.7],'q':[0,10]})\n",
      "model.fit(iter=500)\n",
      "model.plot_distributions()"
     ],
     "language": "python",
     "metadata": {},
     "outputs": [],
     "prompt_number": "*"
    },
    {
     "cell_type": "code",
     "collapsed": false,
     "input": [
      "Beta0 = model.beta0"
     ],
     "language": "python",
     "metadata": {},
     "outputs": [],
     "prompt_number": "*"
    },
    {
     "cell_type": "code",
     "collapsed": false,
     "input": [
      "Beta1 = model.beta1"
     ],
     "language": "python",
     "metadata": {},
     "outputs": [],
     "prompt_number": "*"
    },
    {
     "cell_type": "code",
     "collapsed": false,
     "input": [
      "#beta = (Beta0 + Beta1)/2\n"
     ],
     "language": "python",
     "metadata": {},
     "outputs": [],
     "prompt_number": "*"
    },
    {
     "cell_type": "code",
     "collapsed": false,
     "input": [
      "incubationTime = model.invk"
     ],
     "language": "python",
     "metadata": {},
     "outputs": [],
     "prompt_number": "*"
    },
    {
     "cell_type": "code",
     "collapsed": false,
     "input": [
      "infectionTime = model.invGamma"
     ],
     "language": "python",
     "metadata": {},
     "outputs": [],
     "prompt_number": "*"
    },
    {
     "cell_type": "code",
     "collapsed": false,
     "input": [
      "Tau = model.tau"
     ],
     "language": "python",
     "metadata": {},
     "outputs": [],
     "prompt_number": "*"
    },
    {
     "cell_type": "code",
     "collapsed": false,
     "input": [
      "Q = model.q"
     ],
     "language": "python",
     "metadata": {},
     "outputs": [],
     "prompt_number": "*"
    },
    {
     "cell_type": "code",
     "collapsed": false,
     "input": [
      "ReproductiveRate = Beta0*infectionTime"
     ],
     "language": "python",
     "metadata": {},
     "outputs": [],
     "prompt_number": "*"
    }
   ],
   "metadata": {}
  }
 ]
}